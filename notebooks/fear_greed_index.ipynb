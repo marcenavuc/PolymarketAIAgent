{
 "cells": [
  {
   "cell_type": "code",
   "id": "initial_id",
   "metadata": {
    "collapsed": true,
    "ExecuteTime": {
     "end_time": "2025-04-25T17:22:36.417725Z",
     "start_time": "2025-04-25T17:22:35.941928Z"
    }
   },
   "source": [
    "import requests\n",
    "import pandas as pd\n",
    "\n",
    "def get_fear_and_greed_index(days=7):\n",
    "    url = f\"https://api.alternative.me/fng/?limit={days}\"\n",
    "    response = requests.get(url)\n",
    "    data = response.json()['data']\n",
    "    \n",
    "    df = pd.DataFrame(data)\n",
    "    df['value'] = df['value'].astype(int)\n",
    "    df['timestamp'] = pd.to_datetime(pd.to_numeric(df['timestamp']), unit='s').dt.date\n",
    "    df = df.rename(columns={'value': 'index', 'value_classification': 'classification', 'timestamp': 'date'})\n",
    "    df = df[['date', 'index', 'classification']].sort_values('date', ascending=False)\n",
    "    \n",
    "    return df\n",
    "\n",
    "# Получаем данные за 7 дней\n",
    "fear_greed_data = get_fear_and_greed_index(7)\n",
    "print(fear_greed_data)"
   ],
   "outputs": [
    {
     "name": "stdout",
     "output_type": "stream",
     "text": [
      "         date  index classification\n",
      "0  2025-04-25     60          Greed\n",
      "1  2025-04-24     63          Greed\n",
      "2  2025-04-23     72          Greed\n",
      "3  2025-04-22     47        Neutral\n",
      "4  2025-04-21     39           Fear\n",
      "5  2025-04-20     37           Fear\n",
      "6  2025-04-19     32           Fear\n"
     ]
    }
   ],
   "execution_count": 12
  },
  {
   "metadata": {
    "ExecuteTime": {
     "end_time": "2025-04-26T05:16:51.695505Z",
     "start_time": "2025-04-26T05:16:51.195988Z"
    }
   },
   "cell_type": "code",
   "source": [
    "import requests\n",
    "import pandas as pd\n",
    "from datetime import datetime, timedelta\n",
    "\n",
    "def get_fear_greed_by_date(start_date, end_date):\n",
    "    url = f\"https://api.alternative.me/fng/?limit=365\"\n",
    "    response = requests.get(url)\n",
    "    data = response.json()['data']\n",
    "    \n",
    "    df = pd.DataFrame(data)\n",
    "    df['timestamp'] = pd.to_datetime(pd.to_numeric(df['timestamp']), unit='s').dt.date\n",
    "    mask = (df['timestamp'] >= start_date) & (df['timestamp'] <= end_date)\n",
    "    filtered_df = df.loc[mask]\n",
    "    \n",
    "    filtered_df = filtered_df.rename(columns={'value': 'index', 'value_classification': 'classification', 'timestamp': 'date'})\n",
    "    filtered_df = filtered_df[['date', 'index', 'classification']].sort_values('date', ascending=False)\n",
    "    \n",
    "    return filtered_df\n",
    "\n",
    "# Пример использования\n",
    "start_date = datetime(2025, 4, 13).date()  # Начальная дата\n",
    "end_date = start_date + timedelta(days=7)  # Конечная дата\n",
    "\n",
    "fear_greed_data = get_fear_greed_by_date(start_date, end_date)\n",
    "print(fear_greed_data)"
   ],
   "id": "5be4d3f2836dff16",
   "outputs": [
    {
     "name": "stdout",
     "output_type": "stream",
     "text": [
      "          date index classification\n",
      "6   2025-04-20    37           Fear\n",
      "7   2025-04-19    32           Fear\n",
      "8   2025-04-18    33           Fear\n",
      "9   2025-04-17    30           Fear\n",
      "10  2025-04-16    29           Fear\n",
      "11  2025-04-15    38           Fear\n",
      "12  2025-04-14    31           Fear\n",
      "13  2025-04-13    45           Fear\n"
     ]
    }
   ],
   "execution_count": 28
  }
 ],
 "metadata": {
  "kernelspec": {
   "display_name": "Python 3",
   "language": "python",
   "name": "python3"
  },
  "language_info": {
   "codemirror_mode": {
    "name": "ipython",
    "version": 2
   },
   "file_extension": ".py",
   "mimetype": "text/x-python",
   "name": "python",
   "nbconvert_exporter": "python",
   "pygments_lexer": "ipython2",
   "version": "2.7.6"
  }
 },
 "nbformat": 4,
 "nbformat_minor": 5
}
