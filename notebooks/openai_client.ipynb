{
 "cells": [
  {
   "cell_type": "code",
   "execution_count": 1,
   "id": "40ab4938",
   "metadata": {},
   "outputs": [],
   "source": [
    "import os\n",
    "import openai\n",
    "\n",
    "openai.api_key = os.environ[\"OPENAI_API_KEY\"]"
   ]
  },
  {
   "cell_type": "code",
   "execution_count": null,
   "id": "3f478c5c",
   "metadata": {},
   "outputs": [],
   "source": [
    "client = OpenAI()\n",
    "\n",
    "response = client.completions.create(\n",
    "    model=\"gpt-3.5-turbo-instruct\",\n",
    "    prompt=\"write strictly 'Yes' or 'No' to the following question: Will bitcoin exceed $80k today?\\nAnswer: \",\n",
    "    max_tokens=5,\n",
    "    temperature=0,\n",
    "    stream=False,\n",
    "    logprobs=20,\n",
    ")"
   ]
  },
  {
   "cell_type": "code",
   "execution_count": 40,
   "id": "338937ea",
   "metadata": {},
   "outputs": [],
   "source": [
    "from openai import OpenAI\n",
    "\n",
    "def get_probability_from_openai(\n",
    "        prompt,\n",
    "        model='gpt-3.5-turbo-instruct',\n",
    "        temperature=0,\n",
    "        max_tokens=5,\n",
    "        logprobs=20,\n",
    "):\n",
    "    \n",
    "    client = OpenAI()\n",
    "    response = client.completions.create(\n",
    "        model=model,\n",
    "        prompt=prompt,\n",
    "        max_tokens=max_tokens,\n",
    "        temperature=temperature,\n",
    "        stream=False,\n",
    "        logprobs=logprobs,\n",
    "    )\n",
    "    return response"
   ]
  },
  {
   "cell_type": "code",
   "execution_count": 46,
   "id": "29394d42",
   "metadata": {},
   "outputs": [],
   "source": [
    "response = get_probability_from_openai(\n",
    "    prompt=\"write strictly 'Yes' or 'No' to the following question: Will bitcoin exceed $80k today?\\nAnswer: \",\n",
    "    model=\"gpt-3.5-turbo-instruct\",\n",
    "    temperature=0,\n",
    "    max_tokens=5,\n",
    "    logprobs=20,\n",
    ")"
   ]
  },
  {
   "cell_type": "code",
   "execution_count": 47,
   "id": "281dbe58",
   "metadata": {},
   "outputs": [
    {
     "name": "stdout",
     "output_type": "stream",
     "text": [
      "Completion(id='cmpl-BNweF7Lc5GlesT8tlpS4LVNZSlIND', choices=[CompletionChoice(finish_reason='stop', index=0, logprobs=Logprobs(text_offset=[96], token_logprobs=[-0.055982918], tokens=['No'], top_logprobs=[{'No': -0.055982918, ' No': -3.5168955, '\\n': -3.777815, '\\n\\n': -7.8597474, 'I': -8.266626, 'NO': -9.063478, ' \\n': -9.269735, 'N': -9.302925, 'Not': -9.439436, 'Yes': -9.452101, 'Unknown': -9.518801, 'Sorry': -9.714113, \"'\": -9.72753, 'It': -9.912325, 'Today': -10.2064, 'no': -10.245663, 'There': -10.28842, \" '\": -10.295128, 'Cannot': -10.301048, 'Unfortunately': -10.305155}]), text='No')], created=1745046687, model='gpt-3.5-turbo-instruct:20230824-v2', object='text_completion', system_fingerprint=None, usage=CompletionUsage(completion_tokens=1, prompt_tokens=25, total_tokens=26, completion_tokens_details=None, prompt_tokens_details=None))\n"
     ]
    }
   ],
   "source": [
    "from pprint import pprint\n",
    "pprint(response)"
   ]
  },
  {
   "cell_type": "code",
   "execution_count": 48,
   "id": "83489d98",
   "metadata": {},
   "outputs": [
    {
     "name": "stdout",
     "output_type": "stream",
     "text": [
      "[{'No': -0.055982918, ' No': -3.5168955, '\\n': -3.777815, '\\n\\n': -7.8597474, 'I': -8.266626, 'NO': -9.063478, ' \\n': -9.269735, 'N': -9.302925, 'Not': -9.439436, 'Yes': -9.452101, 'Unknown': -9.518801, 'Sorry': -9.714113, \"'\": -9.72753, 'It': -9.912325, 'Today': -10.2064, 'no': -10.245663, 'There': -10.28842, \" '\": -10.295128, 'Cannot': -10.301048, 'Unfortunately': -10.305155}]\n"
     ]
    }
   ],
   "source": [
    "print(response.choices[0].logprobs.top_logprobs)"
   ]
  },
  {
   "cell_type": "code",
   "execution_count": null,
   "id": "ba9fb98e",
   "metadata": {},
   "outputs": [],
   "source": [
    "def extract_yes_no_logits_and_softmax(response):\n",
    "    import numpy as np\n",
    "\n",
    "    yes_logits = []\n",
    "    no_logits = []\n",
    "    yes_tokens = []\n",
    "    no_tokens = []\n",
    "\n",
    "    top_logprobs = response.choices[0].logprobs.top_logprobs[0]\n",
    "    for token, logit in top_logprobs.items():\n",
    "        processed_token = token.lower().strip()\n",
    "        if processed_token == 'yes':\n",
    "            yes_logits.append(logit)\n",
    "            yes_tokens.append(token)\n",
    "        elif processed_token == 'no':\n",
    "            no_logits.append(logit)\n",
    "            no_tokens.append(token)\n",
    "\n",
    "    relevant_logits = np.array(yes_logits + no_logits)\n",
    "\n",
    "    if relevant_logits.size == 0:\n",
    "        return Exception(\"No relevant logits found for 'yes'S or 'no' tokens.\")\n",
    "\n",
    "    exp_logits = np.exp(relevant_logits - np.max(relevant_logits))\n",
    "    softmax_probs = exp_logits / exp_logits.sum()\n",
    "\n",
    "    yes_prob_sum = float(np.sum(softmax_probs[:len(yes_logits)])) if yes_logits else 0.0\n",
    "    no_prob_sum = float(np.sum(softmax_probs[len(yes_logits):])) if no_logits else 0.0\n",
    "\n",
    "    return {\n",
    "        \"yes_tokens_found\": yes_tokens,\n",
    "        \"no_tokens_found\": no_tokens,\n",
    "        \"yes_prob_sum\": yes_prob_sum,\n",
    "        \"no_prob_sum\": no_prob_sum,\n",
    "        \"softmax_probs_yes_no\": softmax_probs.tolist()\n",
    "    }"
   ]
  },
  {
   "cell_type": "code",
   "execution_count": 50,
   "id": "f6c787a1",
   "metadata": {},
   "outputs": [
    {
     "data": {
      "text/plain": [
       "{'yes_tokens_found': ['Yes'],\n",
       " 'no_tokens_found': ['No', ' No', 'NO', 'no'],\n",
       " 'yes_prob_sum': 8.04985081849187e-05,\n",
       " 'no_prob_sum': 0.999919501491815,\n",
       " 'softmax_probs_yes_no': [8.04985081849187e-05,\n",
       "  0.9693264563458175,\n",
       "  0.03043791007391366,\n",
       "  0.00011873114512202792,\n",
       "  3.6403926961757085e-05]}"
      ]
     },
     "execution_count": 50,
     "metadata": {},
     "output_type": "execute_result"
    }
   ],
   "source": [
    "extract_yes_no_logits_and_softmax(response)"
   ]
  },
  {
   "cell_type": "code",
   "execution_count": null,
   "id": "b7c56614",
   "metadata": {},
   "outputs": [],
   "source": []
  }
 ],
 "metadata": {
  "kernelspec": {
   "display_name": ".venv",
   "language": "python",
   "name": "python3"
  },
  "language_info": {
   "codemirror_mode": {
    "name": "ipython",
    "version": 3
   },
   "file_extension": ".py",
   "mimetype": "text/x-python",
   "name": "python",
   "nbconvert_exporter": "python",
   "pygments_lexer": "ipython3",
   "version": "3.12.3"
  }
 },
 "nbformat": 4,
 "nbformat_minor": 5
}
